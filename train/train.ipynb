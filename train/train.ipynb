{
 "metadata": {
  "language_info": {
   "codemirror_mode": {
    "name": "ipython",
    "version": 3
   },
   "file_extension": ".py",
   "mimetype": "text/x-python",
   "name": "python",
   "nbconvert_exporter": "python",
   "pygments_lexer": "ipython3",
   "version": "3.9.1-final"
  },
  "orig_nbformat": 2,
  "kernelspec": {
   "name": "python3",
   "display_name": "Python 3.9.1 64-bit ('base': conda)",
   "metadata": {
    "interpreter": {
     "hash": "767d51c1340bd893661ea55ea3124f6de3c7a262a8b4abca0554b478b1e2ff90"
    }
   }
  }
 },
 "nbformat": 4,
 "nbformat_minor": 2,
 "cells": [
  {
   "source": [
    "# Python code that trains the fraud detection model to 0.75% of the data set"
   ],
   "cell_type": "markdown",
   "metadata": {}
  },
  {
   "cell_type": "code",
   "execution_count": null,
   "metadata": {},
   "outputs": [],
   "source": [
    "import pandas as pd\n",
    "import joblib\n",
    "\n",
    "from sklearn.ensemble import RandomForestClassifier"
   ]
  },
  {
   "cell_type": "code",
   "execution_count": null,
   "metadata": {},
   "outputs": [],
   "source": [
    "df = pd.read_csv('../data/creditcard.csv')\n",
    "print(f'The data has {df.shape[0]} rows and {df.shape[1]} columns')"
   ]
  },
  {
   "cell_type": "code",
   "execution_count": null,
   "metadata": {},
   "outputs": [],
   "source": [
    "#sort dataframe by Time\n",
    "df.sort_values(by='Time', inplace=True)\n",
    "\n",
    "#number of rows in the dataset\n",
    "n_samples = df.shape[0]\n",
    "\n",
    "train_size = 0.75\n",
    "\n",
    "n_train = int(train_size * n_samples)\n",
    "\n",
    "df_train = df.iloc[0:n_train] #first n_train rows are train\n",
    "df_test = df.iloc[n_train:] #rest is test\n",
    "\n",
    "features_train = df_train.drop(['Time', 'Class','V1','V2','V5','V6','V7','V8','V9','V13','V15','V16','V18','V19','V20','V21','V22','V23','V24','V25','V26','V27','V28'], axis=1)\n",
    "target_train = df_train['Class']\n",
    "\n",
    "features_test = df_test.drop(['Time', 'Class','V1','V2','V5','V6','V7','V8','V9','V13','V15','V16','V18','V19','V20','V21','V22','V23','V24','V25','V26','V27','V28'], axis=1)\n",
    "target_test = df_test['Class']\n",
    "\n",
    "print(f'The trained data has {features_train.shape[0]} rows and {features_train.shape[1]} columns')\n",
    "\n",
    "print(features_train[:5])"
   ]
  },
  {
   "cell_type": "code",
   "execution_count": null,
   "metadata": {},
   "outputs": [],
   "source": [
    "model = RandomForestClassifier(n_estimators=200, \n",
    "                               max_depth=6, \n",
    "                               n_jobs=10,\n",
    "                               class_weight='balanced')\n",
    "model.fit(features_train, target_train)"
   ]
  },
  {
   "cell_type": "code",
   "execution_count": null,
   "metadata": {},
   "outputs": [],
   "source": [
    "#save mode in filesystem\n",
    "joblib.dump(model, 'modelfull.pkl')"
   ]
  }
 ]
}